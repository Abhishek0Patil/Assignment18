{
 "cells": [
  {
   "cell_type": "markdown",
   "id": "c817a4ec-7ce2-417a-85c1-57a5b843f532",
   "metadata": {},
   "source": [
    "The three measures of central tendency are:\n",
    "\n",
    "Mean: The mean is the average of a set of numbers. It is calculated by adding up all the values in a dataset and then dividing by the number of values.\n",
    "\n",
    "Median: The median is the middle value in a dataset when the values are arranged in ascending or descending order. If there is an even number of values, the median is the average of the two middle values.\n",
    "\n",
    "Mode: The mode is the value that appears most frequently in a dataset. It's possible for a dataset to have more than one mode if multiple values occur with the same highest frequency, in which case the dataset is called multimodal. If no value repeats, the dataset is considered to have no mode."
   ]
  },
  {
   "cell_type": "code",
   "execution_count": null,
   "id": "ceac94c6-d8ca-4717-ac83-f19804a1c9a2",
   "metadata": {},
   "outputs": [],
   "source": []
  },
  {
   "cell_type": "markdown",
   "id": "1c2f7ece-a8d6-4c07-81c1-f5284b6f84f2",
   "metadata": {},
   "source": [
    "The mean, median, and mode are all measures of central tendency, but they each capture different aspects of the data distribution:\n",
    "\n",
    "Mean: The mean represents the arithmetic average of a dataset. It is calculated by adding up all the values in the dataset and then dividing by the total number of values. The mean is sensitive to extreme values, also known as outliers, as it takes into account the magnitude of each value. It's commonly used when the data is normally distributed or when you want to find a typical or average value.\n",
    "\n",
    "Median: The median is the middle value of a dataset when the values are arranged in ascending or descending order. If there is an even number of values, the median is the average of the two middle values. The median is less affected by extreme values compared to the mean, making it a more robust measure of central tendency, especially when dealing with skewed or non-normally distributed data.\n",
    "\n",
    "Mode: The mode is the value that appears most frequently in a dataset. Unlike the mean and median, the mode doesn't consider the actual values of the dataset but focuses solely on frequency. The mode is useful for categorical or discrete data, where values represent categories or groups. It's often used to identify the most common category or response in a dataset."
   ]
  },
  {
   "cell_type": "code",
   "execution_count": null,
   "id": "6a23d813-246c-4984-8dfe-6c436eacf7b0",
   "metadata": {},
   "outputs": [],
   "source": []
  },
  {
   "cell_type": "code",
   "execution_count": 1,
   "id": "d87be537-4a0f-49f9-be3f-a853b786e865",
   "metadata": {},
   "outputs": [],
   "source": [
    "height=[178,177,176,177,178.2,178,175,179,180,175,178.9,176.2,177,172.5,178,176.5]"
   ]
  },
  {
   "cell_type": "code",
   "execution_count": 2,
   "id": "cf8ba098-d66b-4eca-97bc-5198cf724761",
   "metadata": {},
   "outputs": [],
   "source": [
    "import numpy as np"
   ]
  },
  {
   "cell_type": "code",
   "execution_count": 3,
   "id": "931cb756-76c7-47f4-9443-c6b0e348d8bb",
   "metadata": {},
   "outputs": [
    {
     "data": {
      "text/plain": [
       "177.01875"
      ]
     },
     "execution_count": 3,
     "metadata": {},
     "output_type": "execute_result"
    }
   ],
   "source": [
    "np.mean(height)"
   ]
  },
  {
   "cell_type": "code",
   "execution_count": 5,
   "id": "66249984-c246-419c-abe8-ac4ba98f428f",
   "metadata": {},
   "outputs": [
    {
     "data": {
      "text/plain": [
       "177.0"
      ]
     },
     "execution_count": 5,
     "metadata": {},
     "output_type": "execute_result"
    }
   ],
   "source": [
    "np.median(height)"
   ]
  },
  {
   "cell_type": "code",
   "execution_count": 6,
   "id": "c5444728-64cc-41ec-9548-00625f0ec047",
   "metadata": {},
   "outputs": [],
   "source": [
    "from scipy import stats"
   ]
  },
  {
   "cell_type": "code",
   "execution_count": 10,
   "id": "48cb83cb-afd6-448c-94ea-509c477ab1eb",
   "metadata": {},
   "outputs": [
    {
     "name": "stderr",
     "output_type": "stream",
     "text": [
      "/tmp/ipykernel_78/1690947930.py:1: FutureWarning: Unlike other reduction functions (e.g. `skew`, `kurtosis`), the default behavior of `mode` typically preserves the axis it acts along. In SciPy 1.11.0, this behavior will change: the default value of `keepdims` will become False, the `axis` over which the statistic is taken will be eliminated, and the value None will no longer be accepted. Set `keepdims` to True or False to avoid this warning.\n",
      "  stats.mode(height)\n"
     ]
    },
    {
     "data": {
      "text/plain": [
       "ModeResult(mode=array([177.]), count=array([3]))"
      ]
     },
     "execution_count": 10,
     "metadata": {},
     "output_type": "execute_result"
    }
   ],
   "source": [
    "stats.mode(height)"
   ]
  },
  {
   "cell_type": "code",
   "execution_count": null,
   "id": "e7e118cc-2b01-4983-9403-8da198ce8fb2",
   "metadata": {},
   "outputs": [],
   "source": []
  },
  {
   "cell_type": "code",
   "execution_count": 11,
   "id": "04b6f786-4563-46a4-9d20-9f4b37a13d9e",
   "metadata": {},
   "outputs": [],
   "source": [
    "data=[178,177,176,177,178.2,178,175,179,180,175,178.9,176.2,177,172.5,178,176.5]"
   ]
  },
  {
   "cell_type": "code",
   "execution_count": 12,
   "id": "fcde5bf6-d86e-4d6b-8137-fbdf61ddb77d",
   "metadata": {},
   "outputs": [
    {
     "data": {
      "text/plain": [
       "1.7885814036548633"
      ]
     },
     "execution_count": 12,
     "metadata": {},
     "output_type": "execute_result"
    }
   ],
   "source": [
    "np.std(data)"
   ]
  },
  {
   "cell_type": "markdown",
   "id": "53c0692f-8591-4355-878c-04570783b9dc",
   "metadata": {},
   "source": [
    "Range: The range is the simplest measure of dispersion. It's calculated by subtracting the minimum value from the maximum value in the dataset. A larger range indicates greater variability in the dataset. However, the range alone doesn't provide information about the distribution of values within the dataset.\n",
    "\n",
    "Variance: The variance measures the average squared deviation of each data point from the mean of the dataset. It gives a sense of how much the data points differ from the mean on average. A higher variance indicates greater variability or spread in the dataset.\n",
    "\n",
    "Standard Deviation: The standard deviation is the square root of the variance. It's often used because it's in the same units as the original data, making it more interpretable. A higher standard deviation indicates greater variability in the dataset."
   ]
  },
  {
   "cell_type": "code",
   "execution_count": null,
   "id": "c9bf0b24-739f-40e2-b0bb-8ea545536e1b",
   "metadata": {},
   "outputs": [],
   "source": []
  },
  {
   "cell_type": "markdown",
   "id": "542f981c-59f6-4b28-ab9f-bf33e7a9d2fb",
   "metadata": {},
   "source": [
    "A Venn diagram is a visual representation of the relationships between different sets or groups of objects. It consists of overlapping circles or other shapes, each representing a set, and the overlaps represent the intersections between these sets."
   ]
  },
  {
   "cell_type": "code",
   "execution_count": null,
   "id": "f635baad-3623-433c-86ec-a3cbbe2772fc",
   "metadata": {},
   "outputs": [],
   "source": []
  },
  {
   "cell_type": "markdown",
   "id": "cdd0f360-af27-423a-a64a-1c708be7f59d",
   "metadata": {},
   "source": [
    "A = (2,3,4,5,6,7) & B = (0,2,6,8,10)\n",
    "\n",
    "A intersection B = (2,6)\n",
    "\n",
    "A union B = (0,2,3,4,5,6,7,8,10)"
   ]
  },
  {
   "cell_type": "code",
   "execution_count": null,
   "id": "3adb3136-4cb1-4a19-8308-c276ca704878",
   "metadata": {},
   "outputs": [],
   "source": []
  },
  {
   "cell_type": "markdown",
   "id": "ce8ea0f1-85d1-4177-9f61-b63d68e761b3",
   "metadata": {},
   "source": [
    "Skewness in data refers to the asymmetry or lack of symmetry in the distribution of values within a dataset. It indicates whether the data is skewed to the left, meaning it's concentrated towards higher values with a longer tail on the left side, or skewed to the right, meaning it's concentrated towards lower values with a longer tail on the right side. In a perfectly symmetrical distribution, the mean, median, and mode are all equal.\n",
    "\n",
    "There are three main types of skewness:\n",
    "\n",
    "Positive Skewness (Right Skewness): In a positively skewed distribution, the tail on the right side of the distribution is longer or fatter than the tail on the left side. This indicates that there are more extreme values on the right side of the distribution, and the mean is typically greater than the median and mode.\n",
    "\n",
    "Negative Skewness (Left Skewness): In a negatively skewed distribution, the tail on the left side of the distribution is longer or fatter than the tail on the right side. This indicates that there are more extreme values on the left side of the distribution, and the mean is typically less than the median and mode.\n",
    "\n",
    "Zero Skewness: A distribution is considered to have zero skewness when it is perfectly symmetrical. In such cases, the mean, median, and mode are all equal, and the distribution appears as a bell-shaped curve (like the normal distribution)."
   ]
  },
  {
   "cell_type": "code",
   "execution_count": null,
   "id": "8255080f-cb2e-4dfd-92c5-84adc455b03d",
   "metadata": {},
   "outputs": [],
   "source": []
  },
  {
   "cell_type": "markdown",
   "id": "ec3a690a-bfb8-4210-834f-21c10b9836fb",
   "metadata": {},
   "source": [
    "The mean is typically greater than the median.\n",
    "\n",
    "The median tends to be closer to the smaller values in the dataset, away from the longer tail on the right side."
   ]
  },
  {
   "cell_type": "code",
   "execution_count": null,
   "id": "50aa409e-a9ad-4186-820e-ad23f2462d68",
   "metadata": {},
   "outputs": [],
   "source": []
  },
  {
   "cell_type": "markdown",
   "id": "4fc5fb40-9347-4b86-87f6-12e88c317ddf",
   "metadata": {},
   "source": [
    "Covariance:\n",
    "Covariance measures the degree to which two variables change together. It indicates the direction of the linear relationship between two variables.\n",
    "A positive covariance indicates that as one variable increases, the other variable also tends to increase, while a negative covariance indicates that as one variable increases, the other variable tends to decrease.\n",
    "\n",
    "Correlation:\n",
    "Correlation is a standardized measure of the linear relationship between two variables. It measures both the strength and direction of the relationship between the variables.\n",
    "Correlation coefficients range between -1 and 1. A correlation coefficient of 1 indicates a perfect positive linear relationship, -1 indicates a perfect negative linear relationship, and 0 indicates no linear relationship."
   ]
  },
  {
   "cell_type": "code",
   "execution_count": null,
   "id": "ff953eb8-44f5-4385-8741-d96ffc0acffd",
   "metadata": {},
   "outputs": [],
   "source": []
  },
  {
   "cell_type": "code",
   "execution_count": 14,
   "id": "c9b50970-cde6-4f39-af2f-ae14d090e954",
   "metadata": {},
   "outputs": [
    {
     "data": {
      "text/html": [
       "<div>\n",
       "<style scoped>\n",
       "    .dataframe tbody tr th:only-of-type {\n",
       "        vertical-align: middle;\n",
       "    }\n",
       "\n",
       "    .dataframe tbody tr th {\n",
       "        vertical-align: top;\n",
       "    }\n",
       "\n",
       "    .dataframe thead th {\n",
       "        text-align: right;\n",
       "    }\n",
       "</style>\n",
       "<table border=\"1\" class=\"dataframe\">\n",
       "  <thead>\n",
       "    <tr style=\"text-align: right;\">\n",
       "      <th></th>\n",
       "      <th>total_bill</th>\n",
       "      <th>tip</th>\n",
       "      <th>sex</th>\n",
       "      <th>smoker</th>\n",
       "      <th>day</th>\n",
       "      <th>time</th>\n",
       "      <th>size</th>\n",
       "    </tr>\n",
       "  </thead>\n",
       "  <tbody>\n",
       "    <tr>\n",
       "      <th>0</th>\n",
       "      <td>16.99</td>\n",
       "      <td>1.01</td>\n",
       "      <td>Female</td>\n",
       "      <td>No</td>\n",
       "      <td>Sun</td>\n",
       "      <td>Dinner</td>\n",
       "      <td>2</td>\n",
       "    </tr>\n",
       "    <tr>\n",
       "      <th>1</th>\n",
       "      <td>10.34</td>\n",
       "      <td>1.66</td>\n",
       "      <td>Male</td>\n",
       "      <td>No</td>\n",
       "      <td>Sun</td>\n",
       "      <td>Dinner</td>\n",
       "      <td>3</td>\n",
       "    </tr>\n",
       "    <tr>\n",
       "      <th>2</th>\n",
       "      <td>21.01</td>\n",
       "      <td>3.50</td>\n",
       "      <td>Male</td>\n",
       "      <td>No</td>\n",
       "      <td>Sun</td>\n",
       "      <td>Dinner</td>\n",
       "      <td>3</td>\n",
       "    </tr>\n",
       "    <tr>\n",
       "      <th>3</th>\n",
       "      <td>23.68</td>\n",
       "      <td>3.31</td>\n",
       "      <td>Male</td>\n",
       "      <td>No</td>\n",
       "      <td>Sun</td>\n",
       "      <td>Dinner</td>\n",
       "      <td>2</td>\n",
       "    </tr>\n",
       "    <tr>\n",
       "      <th>4</th>\n",
       "      <td>24.59</td>\n",
       "      <td>3.61</td>\n",
       "      <td>Female</td>\n",
       "      <td>No</td>\n",
       "      <td>Sun</td>\n",
       "      <td>Dinner</td>\n",
       "      <td>4</td>\n",
       "    </tr>\n",
       "  </tbody>\n",
       "</table>\n",
       "</div>"
      ],
      "text/plain": [
       "   total_bill   tip     sex smoker  day    time  size\n",
       "0       16.99  1.01  Female     No  Sun  Dinner     2\n",
       "1       10.34  1.66    Male     No  Sun  Dinner     3\n",
       "2       21.01  3.50    Male     No  Sun  Dinner     3\n",
       "3       23.68  3.31    Male     No  Sun  Dinner     2\n",
       "4       24.59  3.61  Female     No  Sun  Dinner     4"
      ]
     },
     "execution_count": 14,
     "metadata": {},
     "output_type": "execute_result"
    }
   ],
   "source": [
    "import numpy as np\n",
    "import seaborn as sns\n",
    "df=sns.load_dataset('tips')\n",
    "df.head()"
   ]
  },
  {
   "cell_type": "code",
   "execution_count": 16,
   "id": "15a25aa2-7185-405b-8ad3-54b2731e49c9",
   "metadata": {},
   "outputs": [
    {
     "data": {
      "text/plain": [
       "19.78594262295082"
      ]
     },
     "execution_count": 16,
     "metadata": {},
     "output_type": "execute_result"
    }
   ],
   "source": [
    "np.mean(df[\"total_bill\"])"
   ]
  },
  {
   "cell_type": "code",
   "execution_count": null,
   "id": "5dea2737-0795-443f-8300-250b8624e3de",
   "metadata": {},
   "outputs": [],
   "source": []
  },
  {
   "cell_type": "markdown",
   "id": "720b38d6-673e-4f99-9e39-d801de1909cf",
   "metadata": {},
   "source": [
    "For a normal distribution, also known as a Gaussian distribution, the measures of central tendency, namely the mean, median, and mode, are all equal.\n",
    "\n",
    "Mean: The mean represents the average value of the dataset. In a normal distribution, the mean is located at the center of the distribution and divides it symmetrically into two halves.\n",
    "\n",
    "Median: The median is the middle value of the dataset when the values are arranged in ascending or descending order. In a normal distribution, the median is also located at the center of the distribution, coinciding with the mean.\n",
    "\n",
    "Mode: The mode is the value that appears most frequently in the dataset. In a normal distribution, the mode is also located at the center of the distribution, where the peak of the bell-shaped curve occurs."
   ]
  },
  {
   "cell_type": "code",
   "execution_count": null,
   "id": "fc049384-3169-4240-9918-fee73e9eda64",
   "metadata": {},
   "outputs": [],
   "source": []
  },
  {
   "cell_type": "markdown",
   "id": "e834daa9-8feb-4282-9ea7-c04107cfb23b",
   "metadata": {},
   "source": [
    "Covariance measures the direction of the relationship between two variables but does not provide a standardized measure of the strength of the relationship.\n",
    "\n",
    "Correlation provides a standardized measure of both the direction and strength of the relationship between two variables, making it easier to interpret and compare across different datasets or variables."
   ]
  },
  {
   "cell_type": "code",
   "execution_count": null,
   "id": "0243b863-a21d-4f03-97aa-d01e579ce2b6",
   "metadata": {},
   "outputs": [],
   "source": []
  },
  {
   "cell_type": "markdown",
   "id": "8d1a3943-1547-4f75-8df4-090109fad415",
   "metadata": {},
   "source": [
    "Outliers can have a significant impact on measures of central tendency and dispersion, often distorting their values and leading to misinterpretation of the data.\n",
    "\n",
    "Measures of Central Tendency:\n",
    "\n",
    "Mean: Outliers can heavily influence the mean, pulling it towards their extreme values. For example, if you have a dataset of test scores where most students score between 70 and 90, but one student scores 10, the mean would be significantly lower than the typical scores of the rest of the students.\n",
    "\n",
    "Median: The median is less affected by outliers since it represents the middle value of the dataset when arranged in ascending or descending order. However, extreme outliers can still shift the median, especially in smaller datasets.\n",
    "\n",
    "Mode: Outliers typically don't affect the mode since it represents the most frequently occurring value(s) in the dataset. However, if an outlier is very extreme and occurs more frequently than other values, it could influence the mode.\n",
    "\n",
    "Measures of Dispersion:\n",
    "\n",
    "Range: Outliers can greatly impact the range, especially if they are extreme values. For example, in a dataset of ages where most individuals are between 20 and 40 years old, but there's one individual who is 100 years old, the range would be much larger due to the outlier.\n",
    "\n",
    "Variance and Standard Deviation: Outliers can inflate the variance and standard deviation, as these measures quantify the spread of data around the mean. Outliers that are far from the mean contribute significantly to the squared deviations in the variance calculation, leading to larger variance and standard deviation values.\n",
    "\n",
    "Example:\n",
    "\n",
    "Consider the following dataset representing the income (in thousands of dollars) of individuals in a neighborhood:\n",
    "\n",
    "20,25,30,35,40,45,50,500\n",
    "\n",
    "Mean: Without the outlier (500), the mean income would be \n",
    "\n",
    "20+25+30+35+40+45+50 /7 = 34.29\n",
    "\n",
    "However, with the outlier, the mean becomes \n",
    "\n",
    "20+25+30+35+40+45+50+500/8 = 82.63\n",
    "\n",
    "Median: The median remains unaffected by the outlier and stays at 37.5.\n",
    "\n",
    "Mode: There is no mode since no value repeats.\n",
    "\n",
    "Range: Without the outlier, the range is \n",
    "\n",
    "50−20=30,\n",
    "\n",
    "but with the outlier, the range becomes \n",
    "\n",
    "500−20=480.\n",
    "\n",
    "Variance and Standard Deviation: The outlier significantly increases the variance and standard deviation, making them less representative of the typical spread of incomes in the neighborhood."
   ]
  },
  {
   "cell_type": "code",
   "execution_count": null,
   "id": "c6e0cda8-d16a-44ff-9e6e-2ee402114ede",
   "metadata": {},
   "outputs": [],
   "source": []
  }
 ],
 "metadata": {
  "kernelspec": {
   "display_name": "Python 3 (ipykernel)",
   "language": "python",
   "name": "python3"
  },
  "language_info": {
   "codemirror_mode": {
    "name": "ipython",
    "version": 3
   },
   "file_extension": ".py",
   "mimetype": "text/x-python",
   "name": "python",
   "nbconvert_exporter": "python",
   "pygments_lexer": "ipython3",
   "version": "3.10.8"
  }
 },
 "nbformat": 4,
 "nbformat_minor": 5
}
